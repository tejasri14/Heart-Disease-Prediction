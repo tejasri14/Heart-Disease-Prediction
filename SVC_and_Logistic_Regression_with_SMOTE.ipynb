{
  "nbformat": 4,
  "nbformat_minor": 0,
  "metadata": {
    "colab": {
      "provenance": []
    },
    "kernelspec": {
      "name": "python3",
      "display_name": "Python 3"
    },
    "language_info": {
      "name": "python"
    }
  },
  "cells": [
    {
      "cell_type": "code",
      "execution_count": null,
      "metadata": {
        "id": "B6W-PB3mTA6s"
      },
      "outputs": [],
      "source": [
        "#importing libraries\n",
        "\n",
        "import pandas as pd\n",
        "import numpy as np\n",
        "import seaborn as sn\n",
        "import scipy.stats as st\n",
        "import matplotlib.pyplot as plt\n",
        "from sklearn.feature_selection import RFE\n",
        "from sklearn.ensemble import ExtraTreesClassifier\n",
        "from sklearn.preprocessing import MinMaxScaler\n",
        "from sklearn.svm import SVC  \n",
        "from sklearn.metrics import classification_report, confusion_matrix\n",
        "from sklearn.linear_model import LogisticRegression\n",
        "from sklearn import metrics\n",
        "from sklearn.model_selection import train_test_split\n",
        "import statsmodels.api as sm\n",
        "import sklearn\n",
        "pip install imblearn\n",
        "from imblearn.over_sampling import SMOTE\n",
        "from sklearn.metrics import confusion_matrix\n",
        "from sklearn.preprocessing import binarize"
      ]
    },
    {
      "cell_type": "code",
      "source": [
        "data=pd.read_csv(\"C://Users/Tejasri/Desktop/framingham.csv\")\n",
        "\n",
        "data[\"cigsPerDay\"]=data[\"cigsPerDay\"].replace(\"NA\",data[\"cigsPerDay\"].mean())\n",
        "data[\"education\"]=data[\"education\"].replace(\"NA\",data[\"education\"].mean())\n",
        "\n",
        "data[\"sysBP\"]=data[\"sysBP\"].astype(int)\n",
        "data[\"diaBP\"]=data[\"diaBP\"].astype(int)\n",
        "\n",
        "data[\"1hyper\"]=np.where(((data[\"sysBP\"]<160) & (data[\"sysBP\"]>=140)) & ((data[\"diaBP\"]<100) & (data[\"diaBP\"]>=90)),1,0)\n",
        "\n",
        "data[\"2hyper\"]=np.where((data[\"sysBP\"]>=160) & (data[\"diaBP\"]>=100),1,0)\n",
        "\n",
        "data.fillna(0,inplace=True)"
      ],
      "metadata": {
        "id": "YGaUqEdfTDAo"
      },
      "execution_count": null,
      "outputs": []
    },
    {
      "cell_type": "code",
      "source": [
        "scaler=MinMaxScaler()\n",
        "data[[\"age\"]]=scaler.fit_transform(data[[\"age\"]])\n",
        "\n",
        "data[[\"totChol\"]]=scaler.fit_transform(data[[\"totChol\"]])\n",
        "\n",
        "data[[\"BMI\"]]=scaler.fit_transform(data[[\"BMI\"]])\n",
        "\n",
        "data[[\"heartRate\"]]=scaler.fit_transform(data[[\"heartRate\"]])\n",
        "\n",
        "data[[\"glucose\"]]=scaler.fit_transform(data[[\"glucose\"]])\n",
        "\n",
        "data[[\"cigsPerDay\"]]=scaler.fit_transform(data[[\"cigsPerDay\"]])\n",
        "\n",
        "data[[\"sysBP\"]]=scaler.fit_transform(data[[\"sysBP\"]])\n",
        "\n",
        "data[[\"diaBP\"]]=scaler.fit_transform(data[[\"diaBP\"]])\n",
        "\n",
        "data[[\"totChol\"]]=scaler.fit_transform(data[[\"totChol\"]])"
      ],
      "metadata": {
        "id": "xEKhXBFXTE4D"
      },
      "execution_count": null,
      "outputs": []
    },
    {
      "cell_type": "code",
      "source": [
        "data[\"constant\"]=1"
      ],
      "metadata": {
        "id": "CwT-xuO-TK0A"
      },
      "execution_count": null,
      "outputs": []
    },
    {
      "cell_type": "code",
      "source": [
        "X = data.iloc[:,[0,1,2,3,6,10,11,12,14,16,17]]\n",
        "y=data.loc[:,data.columns==\"TenYearCHD\"]\n",
        "regressor_OLS = sm.OLS(endog = y, exog = X).fit()\n",
        "regressor_OLS.summary()"
      ],
      "metadata": {
        "id": "3pyUiYJuTMbQ"
      },
      "execution_count": null,
      "outputs": []
    },
    {
      "cell_type": "code",
      "source": [
        "cols=data.columns[:-1]"
      ],
      "metadata": {
        "id": "WbXwcgmdTOLD"
      },
      "execution_count": null,
      "outputs": []
    },
    {
      "cell_type": "code",
      "source": [
        "logreg = LogisticRegression()"
      ],
      "metadata": {
        "id": "pMlewY9qTQKc"
      },
      "execution_count": null,
      "outputs": []
    },
    {
      "cell_type": "code",
      "source": [
        "data.TenYearCHD.value_counts()"
      ],
      "metadata": {
        "id": "R7uxwBwATSfs"
      },
      "execution_count": null,
      "outputs": []
    },
    {
      "cell_type": "code",
      "source": [
        "model = ExtraTreesClassifier()\n",
        "model.fit(X, y)\n",
        "print(model.feature_importances_)"
      ],
      "metadata": {
        "id": "QYbSzhttTUvJ"
      },
      "execution_count": null,
      "outputs": []
    },
    {
      "cell_type": "code",
      "source": [
        "smt = SMOTE()\n",
        "X, y = smt.fit_sample(X, y)"
      ],
      "metadata": {
        "id": "o1uYBezbTWaC"
      },
      "execution_count": null,
      "outputs": []
    },
    {
      "cell_type": "code",
      "source": [
        "np.bincount(y)"
      ],
      "metadata": {
        "id": "AU0MfKG2TYg0"
      },
      "execution_count": null,
      "outputs": []
    },
    {
      "cell_type": "code",
      "source": [
        "X_train, X_test, y_train, y_test = train_test_split(X, y, test_size=0.3, random_state=0)\n",
        "logreg.fit(X_train, y_train)"
      ],
      "metadata": {
        "id": "QZltbSmiTaAF"
      },
      "execution_count": null,
      "outputs": []
    },
    {
      "cell_type": "code",
      "source": [
        "y_pred=logreg.predict(X_test)"
      ],
      "metadata": {
        "id": "orO5YUPWTbge"
      },
      "execution_count": null,
      "outputs": []
    },
    {
      "cell_type": "code",
      "source": [
        "cm=confusion_matrix(y_test,y_pred)\n",
        "conf_matrix=pd.DataFrame(data=cm,columns=['Predicted:0','Predicted:1'],index=['Actual:0','Actual:1'])\n",
        "plt.figure(figsize = (8,5))\n",
        "sn.heatmap(conf_matrix, annot=True,fmt='d',cmap=\"YlGnBu\""
      ],
      "metadata": {
        "id": "I02VjuHLTjFu"
      },
      "execution_count": null,
      "outputs": []
    },
    {
      "cell_type": "code",
      "source": [
        "TN=cm[0,0]\n",
        "TP=cm[1,1]\n",
        "FN=cm[1,0]\n",
        "FP=cm[0,1]\n",
        "sensitivity=TP/float(TP+FN)\n",
        "specificity=TN/float(TN+FP)\n",
        "print('The acuuracy of the model = TP+TN/(TP+TN+FP+FN) = ',(TP+TN)/float(TP+TN+FP+FN),'\\n',\n",
        "\n",
        "'The Missclassification = 1-Accuracy = ',1-((TP+TN)/float(TP+TN+FP+FN)),'\\n',\n",
        "\n",
        "'Sensitivity or True Positive Rate = TP/(TP+FN) = ',TP/float(TP+FN),'\\n',\n",
        "\n",
        "'Specificity or True Negative Rate = TN/(TN+FP) = ',TN/float(TN+FP),'\\n',\n",
        "\n",
        "'Positive Predictive value = TP/(TP+FP) = ',TP/float(TP+FP),'\\n',\n",
        "\n",
        "'Negative predictive Value = TN/(TN+FN) = ',TN/float(TN+FN),'\\n',\n",
        "\n",
        "'Positive Likelihood Ratio = Sensitivity/(1-Specificity) = ',sensitivity/(1-specificity),'\\n',\n",
        "\n",
        "'Negative likelihood Ratio = (1-Sensitivity)/Specificity = ',(1-sensitivity)/specificity)\n",
        "\n",
        "svclassifier = SVC(kernel='linear',C=200)\n",
        "                   #degree=4)\n",
        "svclassifier.fit(X_train, y_train) \n",
        "y_pred = svclassifier.predict(X_test)"
      ],
      "metadata": {
        "id": "NfkUVNQFTkrA"
      },
      "execution_count": null,
      "outputs": []
    },
    {
      "cell_type": "code",
      "source": [
        "cm=confusion_matrix(y_test,y_pred)\n",
        "conf_matrix=pd.DataFrame(data=cm,columns=['Predicted:0','Predicted:1'],index=['Actual:0','Actual:1'])\n",
        "plt.figure(figsize = (8,5))\n",
        "sn.heatmap(conf_matrix, annot=True,fmt='d',cmap=\"YlGnBu\") \n",
        "print(classification_report(y_test,y_pred))"
      ],
      "metadata": {
        "id": "-BZy-tCUVDik"
      },
      "execution_count": null,
      "outputs": []
    },
    {
      "cell_type": "code",
      "source": [
        "TN=cm[0,0]\n",
        "TP=cm[1,1]\n",
        "FN=cm[1,0]\n",
        "FP=cm[0,1]\n",
        "sensitivity=TP/float(TP+FN)\n",
        "specificity=TN/float(TN+FP)\n",
        "print('The acuuracy of the model = TP+TN/(TP+TN+FP+FN) = ',(TP+TN)/float(TP+TN+FP+FN)*100,'\\n',\n",
        "\n",
        "'The Missclassification = 1-Accuracy = ',1-((TP+TN)/float(TP+TN+FP+FN)),'\\n',\n",
        "\n",
        "'Sensitivity or True Positive Rate = TP/(TP+FN) = ',TP/float(TP+FN),'\\n',\n",
        "\n",
        "'Specificity or True Negative Rate = TN/(TN+FP) = ',TN/float(TN+FP),'\\n',\n",
        "\n",
        "'Positive Predictive value = TP/(TP+FP) = ',TP/float(TP+FP),'\\n',\n",
        "\n",
        "'Negative predictive Value = TN/(TN+FN) = ',TN/float(TN+FN),'\\n',\n",
        "\n",
        "'Positive Likelihood Ratio = Sensitivity/(1-Specificity) = ',sensitivity/(1-specificity),'\\n',\n",
        "\n",
        "'Negative likelihood Ratio = (1-Sensitivity)/Specificity = ',(1-sensitivity)/specificity)"
      ],
      "metadata": {
        "id": "p4Aa7VYZVFdD"
      },
      "execution_count": null,
      "outputs": []
    },
    {
      "cell_type": "code",
      "source": [
        "y_pred_prob=logreg.predict_proba(X_test)[:,:]\n",
        "y_pred_prob_df=pd.DataFrame(data=y_pred_prob, columns=['Prob of no heart disease (0)','Prob of Heart Disease (1)'])\n",
        "y_pred_prob_df.head()"
      ],
      "metadata": {
        "id": "qoCWFMXTVKRq"
      },
      "execution_count": null,
      "outputs": []
    },
    {
      "cell_type": "code",
      "source": [
        "for i in range(1,11):\n",
        "    cm2=0\n",
        "    y_pred_prob_yes=logreg.predict_proba(X_test)\n",
        "    y_pred2=binarize(y_pred_prob_yes,i/10)[:,1]\n",
        "    cm2=confusion_matrix(y_test,y_pred2)\n",
        "    print ('With',i/10,'threshold the Confusion Matrix is ','\\n',cm2,'\\n',\n",
        "            'with',cm2[0,0]+cm2[1,1],'correct predictions and',cm2[1,0],'Type II errors( False Negatives)','\\n\\n',\n",
        "          'Sensitivity: ',cm2[1,1]/(float(cm2[1,1]+cm2[1,0])),'Specificity: ',cm2[0,0]/(float(cm2[0,0]+cm2[0,1])),'\\n\\n\\n','Accuracy:',(cm2[1,1]+cm2[0,0])/float(cm2[1,1]+cm2[1,0]+cm2[0,1]+cm2[0,1])*100)"
      ],
      "metadata": {
        "id": "clmQmqbhVMiO"
      },
      "execution_count": null,
      "outputs": []
    },
    {
      "cell_type": "code",
      "source": [],
      "metadata": {
        "id": "BjZQgNMGTkzT"
      },
      "execution_count": null,
      "outputs": []
    }
  ]
}